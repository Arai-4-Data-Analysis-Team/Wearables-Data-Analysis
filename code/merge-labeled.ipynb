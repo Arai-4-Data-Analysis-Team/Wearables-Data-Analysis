{
 "cells": [
  {
   "cell_type": "code",
   "execution_count": 1,
   "metadata": {},
   "outputs": [],
   "source": [
    "# Import libraries\n",
    "\n",
    "import pandas as pd\n",
    "import glob\n",
    "import os"
   ]
  },
  {
   "cell_type": "code",
   "execution_count": 2,
   "metadata": {},
   "outputs": [],
   "source": [
    "\"\"\"Script to concatenate all files in calibration_scription folder\"\"\"\n",
    "\n",
    "# Merge files\n",
    "\n",
    "joined_files = os.path.join('../data/labeled/calibration', '*.csv')\n",
    "\n",
    "# List of merged files\n",
    "\n",
    "joined_list = glob.glob(joined_files)\n",
    "\n",
    "# Concatenate files\n",
    "\n",
    "df = pd.concat(map(pd.read_csv, joined_list), ignore_index=True)\n",
    "\n",
    "# Save to csv\n",
    "\n",
    "df.to_csv('../data/labeled/calibration_merged.csv')"
   ]
  },
  {
   "cell_type": "code",
   "execution_count": 9,
   "metadata": {},
   "outputs": [],
   "source": [
    "\"\"\"Script to concatenate all files in movement_scription folder\"\"\"\n",
    "\n",
    "# Merge files\n",
    "\n",
    "joined_files = os.path.join('../data/labeled/movement', '*.csv')\n",
    "\n",
    "# List of merged files\n",
    "\n",
    "joined_list = glob.glob(joined_files)\n",
    "\n",
    "# Concatenate files\n",
    "\n",
    "df = pd.concat(map(pd.read_csv, joined_list), ignore_index=True)\n",
    "\n",
    "# Save to csv\n",
    "\n",
    "df.to_csv('../data/labeled/movement_merged.csv')"
   ]
  }
 ],
 "metadata": {
  "kernelspec": {
   "display_name": "wearables_project",
   "language": "python",
   "name": "python3"
  },
  "language_info": {
   "codemirror_mode": {
    "name": "ipython",
    "version": 3
   },
   "file_extension": ".py",
   "mimetype": "text/x-python",
   "name": "python",
   "nbconvert_exporter": "python",
   "pygments_lexer": "ipython3",
   "version": "3.9.15 (main, Nov 24 2022, 14:39:17) [MSC v.1916 64 bit (AMD64)]"
  },
  "orig_nbformat": 4,
  "vscode": {
   "interpreter": {
    "hash": "8e4a686e196766062f97211ccb64934afcc7f51a036935ea74671f5423991fca"
   }
  }
 },
 "nbformat": 4,
 "nbformat_minor": 2
}
