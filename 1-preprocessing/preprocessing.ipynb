{
 "cells": [
  {
   "cell_type": "code",
   "execution_count": 1,
   "metadata": {},
   "outputs": [],
   "source": [
    "# import libraries\n",
    "\n",
    "import os\n",
    "import pandas as pd\n",
    "import glob"
   ]
  },
  {
   "cell_type": "code",
   "execution_count": 2,
   "metadata": {},
   "outputs": [],
   "source": [
    "# specify the folder where the csv files are located\n",
    "path = '../data/labeled/movement'\n",
    "\n",
    "# loop through all the files in the folder\n",
    "for file in os.listdir(path):\n",
    "    if file.endswith('.csv'):\n",
    "        file_path = os.path.join(path, file)\n",
    "\n",
    "        # read the csv file\n",
    "        df = pd.read_csv(file_path)\n",
    "\n",
    "        # drop unnecessary features\n",
    "        df = df.drop(['temp_r', 'mag_x_r', 'mag_y_r', 'mag_z_r', 'temp_n', 'mag_x_n', 'mag_y_n', 'mag_z_n', 'kal_status_n', \n",
    "                    'alpha_n', 'beta_n', 'started', 'calibrated', 'monitoring', 'zone', 'in_bending_orange_zone', 'in_bending_red_zone', \n",
    "                    'in_overreach_zone', 'bending_buzzing', 'overreach_buzzing', 'walking', 'vibrating', 'static_posture'], axis=1)\n",
    "\n",
    "        # add 'seconds' column\n",
    "        counter = 1\n",
    "        seconds = 1\n",
    "        sec_list = []\n",
    "        for x in range(len(df)):\n",
    "            if counter <= 25:\n",
    "                sec_list.append(seconds)\n",
    "                counter = counter + 1\n",
    "            else:\n",
    "                seconds = seconds + 1\n",
    "                sec_list.append(seconds)\n",
    "                counter = 2\n",
    "        df['seconds'] = sec_list\n",
    "\n",
    "        # add alpha_r & beta_r difference column\n",
    "        diff_list = []\n",
    "        index = 0\n",
    "        for a in df['alpha_r']:\n",
    "            diff = a - df.loc[index, 'beta_r']\n",
    "            diff_list.append(diff)\n",
    "            index = index + 1\n",
    "        df['diff_alpha_beta'] = diff_list\n",
    "\n",
    "        # save the changes\n",
    "        df.to_csv(file_path, index=False)"
   ]
  },
  {
   "cell_type": "code",
   "execution_count": 3,
   "metadata": {},
   "outputs": [],
   "source": [
    "# concatenate all files\n",
    "\n",
    "joined_files = os.path.join(path, '*.csv')\n",
    "joined_list = glob.glob(joined_files)\n",
    "df_concat = pd.concat(map(pd.read_csv, joined_list), ignore_index=True)\n",
    "df_concat.to_csv(path + '/concatenated.csv')"
   ]
  }
 ],
 "metadata": {
  "kernelspec": {
   "display_name": "wearables_project",
   "language": "python",
   "name": "python3"
  },
  "language_info": {
   "codemirror_mode": {
    "name": "ipython",
    "version": 3
   },
   "file_extension": ".py",
   "mimetype": "text/x-python",
   "name": "python",
   "nbconvert_exporter": "python",
   "pygments_lexer": "ipython3",
   "version": "3.9.15"
  },
  "orig_nbformat": 4,
  "vscode": {
   "interpreter": {
    "hash": "8e4a686e196766062f97211ccb64934afcc7f51a036935ea74671f5423991fca"
   }
  }
 },
 "nbformat": 4,
 "nbformat_minor": 2
}
