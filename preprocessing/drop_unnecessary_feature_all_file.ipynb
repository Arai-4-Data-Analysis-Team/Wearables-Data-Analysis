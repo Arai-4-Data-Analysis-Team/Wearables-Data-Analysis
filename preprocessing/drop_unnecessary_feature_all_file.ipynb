{
 "cells": [
  {
   "cell_type": "code",
   "execution_count": 2,
   "metadata": {},
   "outputs": [],
   "source": [
    "# Import the necessary libraries\n",
    "import pandas as pd\n",
    "import os\n",
    "\n",
    "# specify the folder where the CSV files are located\n",
    "path = 'path/to/folder/'\n",
    "\n",
    "# loop through all the files in the folder\n",
    "for file in os.listdir(path):\n",
    "    if file.endswith('.csv'):\n",
    "        file_path = os.path.join(path,file)\n",
    "        df = pd.read_csv(file_path) # read the csv file\n",
    "\n",
    "        #drop unnecessary feature\n",
    "        df = df.drop(['temp_r','mag_x_r','mag_y_r','mag_z_r','kal_status_r','temp_n','mag_x_n','mag_y_n',\n",
    "        'mag_z_n','kal_status_n','alpha_n','beta_n','started','calibrated','monitoring','zone',\n",
    "        'in_bending_orange_zone','in_bending_red_zone','in_overreach_zone','bending_buzzing','walking',\n",
    "        'vibrating','static_posture'], axis=1)\n",
    "        \n",
    "        df.to_csv(file_path, index=False) # save the changes\n"
   ]
  }
 ],
 "metadata": {
  "kernelspec": {
   "display_name": "Python 3",
   "language": "python",
   "name": "python3"
  },
  "language_info": {
   "codemirror_mode": {
    "name": "ipython",
    "version": 3
   },
   "file_extension": ".py",
   "mimetype": "text/x-python",
   "name": "python",
   "nbconvert_exporter": "python",
   "pygments_lexer": "ipython3",
   "version": "3.10.7 (tags/v3.10.7:6cc6b13, Sep  5 2022, 14:08:36) [MSC v.1933 64 bit (AMD64)]"
  },
  "orig_nbformat": 4,
  "vscode": {
   "interpreter": {
    "hash": "5f79f8960d6dedbddfdd5036fe6150b0e398b172e679338c88a6d73d66b5e0f7"
   }
  }
 },
 "nbformat": 4,
 "nbformat_minor": 2
}
