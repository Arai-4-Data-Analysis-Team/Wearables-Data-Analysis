{
 "cells": [
  {
   "cell_type": "code",
   "execution_count": null,
   "metadata": {},
   "outputs": [],
   "source": [
    "# Import the necessary libraries\n",
    "import os\n",
    "import pandas as pd\n",
    "\n",
    "# Replace with the path to the folder containing the CSV files\n",
    "path = 'path/to/folder/' \n",
    "\n",
    "# loop through all the files in the folder\n",
    "for file in os.listdir(path):\n",
    "    if file.endswith(\".csv\"):\n",
    "\n",
    "        df = pd.read_csv(path + file) # read the csv file\n",
    "        \n",
    "        #apply the calculation\n",
    "        counter = 1\n",
    "        seconds = 1\n",
    "        sec_list = []\n",
    "        for x in range(len(df)):\n",
    "            if counter <= 25:\n",
    "                sec_list.append(seconds)\n",
    "                counter = counter + 1\n",
    "            else:\n",
    "                seconds = seconds + 1\n",
    "                sec_list.append(seconds)\n",
    "                counter = 2\n",
    "        df['seconds'] = sec_list\n",
    "        \n",
    "        df.to_csv(path + file, index=False) # save the changes"
   ]
  }
 ],
 "metadata": {
  "kernelspec": {
   "display_name": "Python 3",
   "language": "python",
   "name": "python3"
  },
  "language_info": {
   "name": "python",
   "version": "3.10.7 (tags/v3.10.7:6cc6b13, Sep  5 2022, 14:08:36) [MSC v.1933 64 bit (AMD64)]"
  },
  "orig_nbformat": 4,
  "vscode": {
   "interpreter": {
    "hash": "5f79f8960d6dedbddfdd5036fe6150b0e398b172e679338c88a6d73d66b5e0f7"
   }
  }
 },
 "nbformat": 4,
 "nbformat_minor": 2
}
